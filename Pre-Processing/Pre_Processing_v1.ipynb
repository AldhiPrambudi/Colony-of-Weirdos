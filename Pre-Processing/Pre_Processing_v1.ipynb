{
  "nbformat": 4,
  "nbformat_minor": 0,
  "metadata": {
    "colab": {
      "provenance": [],
      "toc_visible": true
    },
    "kernelspec": {
      "name": "python3",
      "display_name": "Python 3"
    },
    "language_info": {
      "name": "python"
    }
  },
  "cells": [
    {
      "cell_type": "markdown",
      "source": [
        "# Pre-Processing"
      ],
      "metadata": {
        "id": "AX2STsaqFIfa"
      }
    },
    {
      "cell_type": "code",
      "execution_count": 1,
      "metadata": {
        "colab": {
          "base_uri": "https://localhost:8080/"
        },
        "id": "R9JuOlfcEMum",
        "outputId": "bb16947e-31f0-4d5a-fe63-a591b956fa0b"
      },
      "outputs": [
        {
          "output_type": "stream",
          "name": "stdout",
          "text": [
            "Mounted at /content/drive\n"
          ]
        }
      ],
      "source": [
        "from google.colab import drive\n",
        "drive.mount('/content/drive')\n",
        "import warnings\n",
        "warnings.filterwarnings('ignore')"
      ]
    },
    {
      "cell_type": "code",
      "source": [
        "%cd /content/drive/My Drive/Rakamin FinPro/"
      ],
      "metadata": {
        "colab": {
          "base_uri": "https://localhost:8080/"
        },
        "id": "hei2_jbqEiRW",
        "outputId": "6961ac9c-b204-4c8e-a830-69b8b3d005fb"
      },
      "execution_count": 2,
      "outputs": [
        {
          "output_type": "stream",
          "name": "stdout",
          "text": [
            "/content/drive/My Drive/Rakamin FinPro\n"
          ]
        }
      ]
    },
    {
      "cell_type": "code",
      "source": [
        "import pandas as pd\n",
        "import numpy as np"
      ],
      "metadata": {
        "id": "m3je_sbJEoHP"
      },
      "execution_count": 3,
      "outputs": []
    },
    {
      "cell_type": "code",
      "source": [
        "df = pd.read_csv(\"SBAnational.csv\", parse_dates=['ApprovalDate', 'DisbursementDate'])"
      ],
      "metadata": {
        "id": "TEN-N0SZFM5H"
      },
      "execution_count": 4,
      "outputs": []
    },
    {
      "cell_type": "code",
      "source": [
        "df.info()"
      ],
      "metadata": {
        "colab": {
          "base_uri": "https://localhost:8080/"
        },
        "id": "YqU85kiyGPh4",
        "outputId": "11f9be0d-ede6-4459-e66d-76682803fb12"
      },
      "execution_count": 5,
      "outputs": [
        {
          "output_type": "stream",
          "name": "stdout",
          "text": [
            "<class 'pandas.core.frame.DataFrame'>\n",
            "RangeIndex: 899164 entries, 0 to 899163\n",
            "Data columns (total 27 columns):\n",
            " #   Column             Non-Null Count   Dtype         \n",
            "---  ------             --------------   -----         \n",
            " 0   LoanNr_ChkDgt      899164 non-null  int64         \n",
            " 1   Name               899150 non-null  object        \n",
            " 2   City               899134 non-null  object        \n",
            " 3   State              899150 non-null  object        \n",
            " 4   Zip                899164 non-null  int64         \n",
            " 5   Bank               897605 non-null  object        \n",
            " 6   BankState          897598 non-null  object        \n",
            " 7   NAICS              899164 non-null  int64         \n",
            " 8   ApprovalDate       899164 non-null  datetime64[ns]\n",
            " 9   ApprovalFY         899164 non-null  object        \n",
            " 10  Term               899164 non-null  int64         \n",
            " 11  NoEmp              899164 non-null  int64         \n",
            " 12  NewExist           899028 non-null  float64       \n",
            " 13  CreateJob          899164 non-null  int64         \n",
            " 14  RetainedJob        899164 non-null  int64         \n",
            " 15  FranchiseCode      899164 non-null  int64         \n",
            " 16  UrbanRural         899164 non-null  int64         \n",
            " 17  RevLineCr          894636 non-null  object        \n",
            " 18  LowDoc             896582 non-null  object        \n",
            " 19  ChgOffDate         162699 non-null  object        \n",
            " 20  DisbursementDate   896796 non-null  datetime64[ns]\n",
            " 21  DisbursementGross  899164 non-null  object        \n",
            " 22  BalanceGross       899164 non-null  object        \n",
            " 23  MIS_Status         897167 non-null  object        \n",
            " 24  ChgOffPrinGr       899164 non-null  object        \n",
            " 25  GrAppv             899164 non-null  object        \n",
            " 26  SBA_Appv           899164 non-null  object        \n",
            "dtypes: datetime64[ns](2), float64(1), int64(9), object(15)\n",
            "memory usage: 185.2+ MB\n"
          ]
        }
      ]
    },
    {
      "cell_type": "markdown",
      "source": [
        "### Mengatasi ApprovalFY yang memiliki niali string"
      ],
      "metadata": {
        "id": "eyGlyo9CxWj3"
      }
    },
    {
      "cell_type": "code",
      "source": [
        "def change_year(x):\n",
        "    if x['ApprovalFY'] == '1976A':\n",
        "        return 1976\n",
        "    else:\n",
        "        return int(x['ApprovalFY'])\n",
        "    \n",
        "df['ApprovalFY'] = df.apply(change_year,axis=1)"
      ],
      "metadata": {
        "id": "6uP5TGpIvv94"
      },
      "execution_count": 6,
      "outputs": []
    },
    {
      "cell_type": "markdown",
      "source": [
        "### Mengatasi DisbursementGross, BalanceGross, ChgOffPrinGr, GrAppv, SBA_Appv yang memiliki tanda '$' dan ','"
      ],
      "metadata": {
        "id": "6crU-jDNxe2z"
      }
    },
    {
      "cell_type": "code",
      "source": [
        "def remove_sign(item):\n",
        "        new = item.replace('$','')\n",
        "        new2 = new.replace(' ','')\n",
        "        new3 = new2.replace(',','')\n",
        "        return float(new3)\n",
        "\n",
        "df['DisbursementGross'] = df['DisbursementGross'].apply(lambda x : remove_sign(x))\n",
        "df['BalanceGross'] = df['BalanceGross'].apply(lambda x : remove_sign(x))\n",
        "df['ChgOffPrinGr'] = df['ChgOffPrinGr'].apply(lambda x : remove_sign(x))\n",
        "df['GrAppv'] = df['GrAppv'].apply(lambda x : remove_sign(x))\n",
        "df['SBA_Appv'] = df['SBA_Appv'].apply(lambda x : remove_sign(x))"
      ],
      "metadata": {
        "id": "roUseV1Cv-Ln"
      },
      "execution_count": 7,
      "outputs": []
    },
    {
      "cell_type": "markdown",
      "source": [
        "### Mengambil 2 digit pertama dari kolom NAICS dan menghilangkan value 0"
      ],
      "metadata": {
        "id": "jTRx9zngxkoV"
      }
    },
    {
      "cell_type": "code",
      "source": [
        "# Mengambil 2 digit pertama\n",
        "naics = []\n",
        "for item in df['NAICS']:\n",
        "    if item == 0 :\n",
        "        naics.append(0)\n",
        "    else :\n",
        "        a = list(str(item))[:2]\n",
        "        b = ''.join(a)\n",
        "        naics.append(b)\n",
        "\n",
        "df['NAICS'] = naics\n",
        "\n",
        "\n",
        "# Drop 0\n",
        "index_naics = []\n",
        "for item in list(df[df['NAICS'] == 0].index):\n",
        "    index_naics.append(item)\n",
        "\n",
        "df.drop(index_naics,inplace=True)"
      ],
      "metadata": {
        "id": "uJxDUbz3wPIh"
      },
      "execution_count": 8,
      "outputs": []
    },
    {
      "cell_type": "code",
      "source": [
        "# Mengganti 2 digit dari NAICS menjadi nama sektor industri terkait\n",
        "df['NAICS'] = df['NAICS'].map({\n",
        "    '11': 'Agriculture / Forestry / Fishing / Hunting',\n",
        "    '21': 'Mining / Quarrying / Oil&Gas Extraction',\n",
        "    '22': 'Utilities',\n",
        "    '23': 'Construction',\n",
        "    '31': 'Manufacturing',\n",
        "    '32': 'Manufacturing',\n",
        "    '33': 'Manufacturing',\n",
        "    '42': 'Wholesale trade',\n",
        "    '44': 'Retail trade',\n",
        "    '45': 'Retail trade',\n",
        "    '48': 'Transportation / Warehousing',\n",
        "    '49': 'Transportation / Warehousing',\n",
        "    '51': 'Information',\n",
        "    '52': 'Finance / Insurance',\n",
        "    '53': 'Real Estate / Rental / Leasing',\n",
        "    '54': 'Proffesional / Scientific / Tech.Service',\n",
        "    '55': 'Management of Companies and Enterprises',\n",
        "    '56': 'Administrative & Support / Waste Management / Remediation Services',\n",
        "    '61': 'Educational',\n",
        "    '62': 'Health Care / Social Assistance',\n",
        "    '71': 'Arts / Entertainment / Recreation',\n",
        "    '72': 'Accomodation / Food Services',\n",
        "    '81': 'Other Services (except public admin)',\n",
        "    '92': 'Public Administration'\n",
        "})"
      ],
      "metadata": {
        "id": "upclxwhww994"
      },
      "execution_count": 9,
      "outputs": []
    },
    {
      "cell_type": "markdown",
      "source": [
        "### Menghilangkan value selain 'Y' or 'N' pada column LowDoc, karena tidak terdefinisi dan tidak memiliki arti"
      ],
      "metadata": {
        "id": "pPrfYHOCx337"
      }
    },
    {
      "cell_type": "code",
      "source": [
        "index_drop_lowdoc = []\n",
        "for index in list(df[(df['LowDoc'] != 'N') & (df['LowDoc'] != 'Y')].index):\n",
        "    index_drop_lowdoc.append(index)\n",
        "\n",
        "df.drop(index_drop_lowdoc,inplace=True)"
      ],
      "metadata": {
        "id": "0a1FhxKmx3qY"
      },
      "execution_count": 10,
      "outputs": []
    },
    {
      "cell_type": "markdown",
      "source": [
        "## Data Cleansing"
      ],
      "metadata": {
        "id": "pMNH6l_V8TN2"
      }
    },
    {
      "cell_type": "code",
      "source": [
        "dfc_v1 = df.copy()"
      ],
      "metadata": {
        "id": "f979Wt98AUVX"
      },
      "execution_count": 11,
      "outputs": []
    },
    {
      "cell_type": "markdown",
      "source": [
        "### Handle Missing Values"
      ],
      "metadata": {
        "id": "CBxDqWaUFWrK"
      }
    },
    {
      "cell_type": "code",
      "source": [
        "# Check column with missing values\n",
        "dfc_v1.isnull().sum()"
      ],
      "metadata": {
        "colab": {
          "base_uri": "https://localhost:8080/"
        },
        "id": "JPeZCjBzFZpw",
        "outputId": "05b29a1f-4155-4d1e-8b46-f3d9b493fd7a"
      },
      "execution_count": 12,
      "outputs": [
        {
          "output_type": "execute_result",
          "data": {
            "text/plain": [
              "LoanNr_ChkDgt             0\n",
              "Name                     11\n",
              "City                      0\n",
              "State                     8\n",
              "Zip                       0\n",
              "Bank                    622\n",
              "BankState               625\n",
              "NAICS                     0\n",
              "ApprovalDate              0\n",
              "ApprovalFY                0\n",
              "Term                      0\n",
              "NoEmp                     0\n",
              "NewExist                132\n",
              "CreateJob                 0\n",
              "RetainedJob               0\n",
              "FranchiseCode             0\n",
              "UrbanRural                0\n",
              "RevLineCr              2207\n",
              "LowDoc                    0\n",
              "ChgOffDate           548399\n",
              "DisbursementDate       1914\n",
              "DisbursementGross         0\n",
              "BalanceGross              0\n",
              "MIS_Status             1708\n",
              "ChgOffPrinGr              0\n",
              "GrAppv                    0\n",
              "SBA_Appv                  0\n",
              "dtype: int64"
            ]
          },
          "metadata": {},
          "execution_count": 12
        }
      ]
    },
    {
      "cell_type": "code",
      "source": [
        "# Check column with 0 values\n",
        "dfc_v1.eq(0).any()"
      ],
      "metadata": {
        "colab": {
          "base_uri": "https://localhost:8080/"
        },
        "id": "u4SkVdWsVwtf",
        "outputId": "5f14e7d5-c5b5-4180-aa9e-a1290db0edf8"
      },
      "execution_count": 13,
      "outputs": [
        {
          "output_type": "execute_result",
          "data": {
            "text/plain": [
              "LoanNr_ChkDgt        False\n",
              "Name                 False\n",
              "City                 False\n",
              "State                False\n",
              "Zip                   True\n",
              "Bank                 False\n",
              "BankState            False\n",
              "NAICS                False\n",
              "ApprovalDate         False\n",
              "ApprovalFY           False\n",
              "Term                  True\n",
              "NoEmp                 True\n",
              "NewExist              True\n",
              "CreateJob             True\n",
              "RetainedJob           True\n",
              "FranchiseCode         True\n",
              "UrbanRural            True\n",
              "RevLineCr            False\n",
              "LowDoc               False\n",
              "ChgOffDate           False\n",
              "DisbursementDate     False\n",
              "DisbursementGross     True\n",
              "BalanceGross          True\n",
              "MIS_Status           False\n",
              "ChgOffPrinGr          True\n",
              "GrAppv               False\n",
              "SBA_Appv             False\n",
              "dtype: bool"
            ]
          },
          "metadata": {},
          "execution_count": 13
        }
      ]
    },
    {
      "cell_type": "code",
      "source": [
        " # Mengatasi missing value pada column MIS_Status\n",
        "dfc_v1['MIS_Status'] = np.where(dfc_v1['ChgOffPrinGr'] == 0, 'P I F', 'CHGOFF')"
      ],
      "metadata": {
        "id": "oznqQHb_HcA8"
      },
      "execution_count": 14,
      "outputs": []
    },
    {
      "cell_type": "code",
      "source": [
        "# Mengatasi column Term, NoEmp, NewExist, UrbanRural yang memiliki nilai 0\n",
        "\n",
        "# Term\n",
        "term = []\n",
        "for item in list(dfc_v1[dfc_v1['Term'] == 0].index):\n",
        "    term.append(item)\n",
        "\n",
        "dfc_v1.drop(term,inplace=True)\n",
        "\n",
        "# NoEmp\n",
        "noemp = []\n",
        "for item in list(dfc_v1[dfc_v1['NoEmp'] == 0].index):\n",
        "    noemp.append(item)\n",
        "\n",
        "dfc_v1.drop(noemp,inplace=True)\n",
        "\n",
        "# NewExist\n",
        "newexist = []\n",
        "for item in list(dfc_v1[dfc_v1['NewExist'] == 0].index):\n",
        "    newexist.append(item)\n",
        "\n",
        "dfc_v1.drop(newexist,inplace=True)\n",
        "\n",
        "# UrbanRural\n",
        "urbanrural = []\n",
        "for item in list(dfc_v1[dfc_v1['UrbanRural'] == 0].index):\n",
        "    urbanrural.append(item)\n",
        "\n",
        "dfc_v1.drop(urbanrural,inplace=True)"
      ],
      "metadata": {
        "id": "6CBqmcN6Rb5M"
      },
      "execution_count": 15,
      "outputs": []
    },
    {
      "cell_type": "markdown",
      "source": [
        "### Handle Duplicated Data"
      ],
      "metadata": {
        "id": "hL0kDMXFk6Y2"
      }
    },
    {
      "cell_type": "code",
      "source": [
        "dfc_v1.duplicated().sum()"
      ],
      "metadata": {
        "colab": {
          "base_uri": "https://localhost:8080/"
        },
        "id": "ott2YkeWk-81",
        "outputId": "4178fe68-6dd9-4c0f-d90b-d8534d91b33a"
      },
      "execution_count": 17,
      "outputs": [
        {
          "output_type": "execute_result",
          "data": {
            "text/plain": [
              "0"
            ]
          },
          "metadata": {},
          "execution_count": 17
        }
      ]
    },
    {
      "cell_type": "markdown",
      "source": [
        "> Tidak ada data yang duplicated, sehingga tidak perlu melakukan apapun"
      ],
      "metadata": {
        "id": "CZc785eTlEeQ"
      }
    },
    {
      "cell_type": "markdown",
      "source": [
        "### Handle Outliers"
      ],
      "metadata": {
        "id": "kRy6YExtlOv2"
      }
    },
    {
      "cell_type": "code",
      "source": [
        "# Mengatasi outliers di NoEmp, karena jumlah maksimal NoEmp diantara 250 - 1500\n",
        "dfc_v1 = dfc_v1[dfc_v1['NoEmp'] <= 1500]"
      ],
      "metadata": {
        "id": "-eW8tIxQlRFN"
      },
      "execution_count": 18,
      "outputs": []
    },
    {
      "cell_type": "code",
      "source": [
        "# Mengatasi outliers di DisbursementGross, menggunakan data yang value DisbursementGross < GrAppv & DisbursementGross == GrAppv\n",
        "dfc_v1 = dfc_v1[dfc_v1['DisbursementGross'] <= dfc_v1['GrAppv']]"
      ],
      "metadata": {
        "id": "W6XpTVo6-Tp8"
      },
      "execution_count": 19,
      "outputs": []
    },
    {
      "cell_type": "markdown",
      "source": [
        "### Feature Transformation"
      ],
      "metadata": {
        "id": "lDfKezt0tyqH"
      }
    },
    {
      "cell_type": "code",
      "source": [],
      "metadata": {
        "id": "ru-Py-uet2q-"
      },
      "execution_count": null,
      "outputs": []
    },
    {
      "cell_type": "markdown",
      "source": [
        "### Feature Encoding"
      ],
      "metadata": {
        "id": "U-PdVgqguf3g"
      }
    },
    {
      "cell_type": "code",
      "source": [
        "# Mengubah value NewExist\n",
        "def change_newexist(x):\n",
        "    # Value 1 akan diubah menjadi 1 (Existing business)\n",
        "    if x == 1:\n",
        "        return 1\n",
        "    # Value 2 akan diubah menjadi 0 (New business)\n",
        "    else:\n",
        "        return 0\n",
        "dfc_v1['NewExist'] = dfc_v1['NewExist'].apply(lambda x : change_newexist(x))"
      ],
      "metadata": {
        "id": "r1vKqXkzujFP"
      },
      "execution_count": 20,
      "outputs": []
    },
    {
      "cell_type": "code",
      "source": [
        "# Mengubah value FranchiseCode\n",
        "def change_franchise(x):\n",
        "    # Value 1 atau 0 akan diubah menjadi 0 (No Franchise)\n",
        "    if (x == 1) | (x == 0):\n",
        "        return 0\n",
        "    # Value selain dari 1 atau 0 akan diubah menjadi 1 (Have Franchise)\n",
        "    else :\n",
        "        return 1\n",
        "\n",
        "dfc_v1['FranchiseCode'] = dfc_v1['FranchiseCode'].apply(lambda x: change_franchise(x))"
      ],
      "metadata": {
        "id": "KSsH0VKH02E5"
      },
      "execution_count": 21,
      "outputs": []
    },
    {
      "cell_type": "code",
      "source": [
        "# Mengubah value UrbanRural\n",
        "def change_urbanrural(x):\n",
        "    # Value 1 akan diubah menjadi 1 (Urban)\n",
        "    if x == 1:\n",
        "        return 1\n",
        "    # Value 2 akan diubah menjadi 0 (Rural)\n",
        "    else:\n",
        "        return 0\n",
        "\n",
        "dfc_v1['UrbanRural'] = dfc_v1['UrbanRural'].apply(lambda x : change_urbanrural(x))"
      ],
      "metadata": {
        "id": "tOtYbHpG02Ho"
      },
      "execution_count": 22,
      "outputs": []
    },
    {
      "cell_type": "code",
      "source": [
        "# Mengubah value LowDoc\n",
        "def change_lowdoc(x):\n",
        "    # Value N akan diubah menjadi 0\n",
        "    if x == 'N':\n",
        "        return 0\n",
        "    # Value Y akan diubah menjadi 1\n",
        "    else :\n",
        "        return 1\n",
        "\n",
        "dfc_v1['LowDoc'] = dfc_v1['LowDoc'].apply(lambda x: change_lowdoc(x))"
      ],
      "metadata": {
        "id": "A3NR1uo602KI"
      },
      "execution_count": 23,
      "outputs": []
    },
    {
      "cell_type": "code",
      "source": [
        "# Mengubah value MIS_Status (PIF = 0, CHGOFF = 1)\n",
        "dfc_v1['MIS_Status'] = dfc_v1['MIS_Status'].replace({'P I F': 0, 'CHGOFF':1})"
      ],
      "metadata": {
        "id": "QILruGCr5Sba"
      },
      "execution_count": 24,
      "outputs": []
    },
    {
      "cell_type": "code",
      "source": [
        "# One hot encoding NAICS & State\n",
        "dfc_v1 = pd.get_dummies(dfc_v1, columns=['NAICS', 'State'], drop_first=True, dtype=int)"
      ],
      "metadata": {
        "id": "RFLEcwOA35GZ"
      },
      "execution_count": 25,
      "outputs": []
    },
    {
      "cell_type": "code",
      "source": [
        "dfc_v1.info()"
      ],
      "metadata": {
        "colab": {
          "base_uri": "https://localhost:8080/"
        },
        "id": "fIji2nV79kwk",
        "outputId": "56df852c-c2fe-4f29-d2b4-607acaccd52f"
      },
      "execution_count": 26,
      "outputs": [
        {
          "output_type": "stream",
          "name": "stdout",
          "text": [
            "<class 'pandas.core.frame.DataFrame'>\n",
            "Int64Index: 392169 entries, 12 to 898660\n",
            "Data columns (total 94 columns):\n",
            " #   Column                                                                    Non-Null Count   Dtype         \n",
            "---  ------                                                                    --------------   -----         \n",
            " 0   LoanNr_ChkDgt                                                             392169 non-null  int64         \n",
            " 1   Name                                                                      392164 non-null  object        \n",
            " 2   City                                                                      392169 non-null  object        \n",
            " 3   Zip                                                                       392169 non-null  int64         \n",
            " 4   Bank                                                                      392160 non-null  object        \n",
            " 5   BankState                                                                 392160 non-null  object        \n",
            " 6   ApprovalDate                                                              392169 non-null  datetime64[ns]\n",
            " 7   ApprovalFY                                                                392169 non-null  int64         \n",
            " 8   Term                                                                      392169 non-null  int64         \n",
            " 9   NoEmp                                                                     392169 non-null  int64         \n",
            " 10  NewExist                                                                  392169 non-null  int64         \n",
            " 11  CreateJob                                                                 392169 non-null  int64         \n",
            " 12  RetainedJob                                                               392169 non-null  int64         \n",
            " 13  FranchiseCode                                                             392169 non-null  int64         \n",
            " 14  UrbanRural                                                                392169 non-null  int64         \n",
            " 15  RevLineCr                                                                 391629 non-null  object        \n",
            " 16  LowDoc                                                                    392169 non-null  int64         \n",
            " 17  ChgOffDate                                                                82142 non-null   object        \n",
            " 18  DisbursementDate                                                          390671 non-null  datetime64[ns]\n",
            " 19  DisbursementGross                                                         392169 non-null  float64       \n",
            " 20  BalanceGross                                                              392169 non-null  float64       \n",
            " 21  MIS_Status                                                                392169 non-null  int64         \n",
            " 22  ChgOffPrinGr                                                              392169 non-null  float64       \n",
            " 23  GrAppv                                                                    392169 non-null  float64       \n",
            " 24  SBA_Appv                                                                  392169 non-null  float64       \n",
            " 25  NAICS_Administrative & Support / Waste Management / Remediation Services  392169 non-null  int64         \n",
            " 26  NAICS_Agriculture / Forestry / Fishing / Hunting                          392169 non-null  int64         \n",
            " 27  NAICS_Arts / Entertainment / Recreation                                   392169 non-null  int64         \n",
            " 28  NAICS_Construction                                                        392169 non-null  int64         \n",
            " 29  NAICS_Educational                                                         392169 non-null  int64         \n",
            " 30  NAICS_Finance / Insurance                                                 392169 non-null  int64         \n",
            " 31  NAICS_Health Care / Social Assistance                                     392169 non-null  int64         \n",
            " 32  NAICS_Information                                                         392169 non-null  int64         \n",
            " 33  NAICS_Management of Companies and Enterprises                             392169 non-null  int64         \n",
            " 34  NAICS_Manufacturing                                                       392169 non-null  int64         \n",
            " 35  NAICS_Mining / Quarrying / Oil&Gas Extraction                             392169 non-null  int64         \n",
            " 36  NAICS_Other Services (except public admin)                                392169 non-null  int64         \n",
            " 37  NAICS_Proffesional / Scientific / Tech.Service                            392169 non-null  int64         \n",
            " 38  NAICS_Public Administration                                               392169 non-null  int64         \n",
            " 39  NAICS_Real Estate / Rental / Leasing                                      392169 non-null  int64         \n",
            " 40  NAICS_Retail trade                                                        392169 non-null  int64         \n",
            " 41  NAICS_Transportation / Warehousing                                        392169 non-null  int64         \n",
            " 42  NAICS_Utilities                                                           392169 non-null  int64         \n",
            " 43  NAICS_Wholesale trade                                                     392169 non-null  int64         \n",
            " 44  State_AL                                                                  392169 non-null  int64         \n",
            " 45  State_AR                                                                  392169 non-null  int64         \n",
            " 46  State_AZ                                                                  392169 non-null  int64         \n",
            " 47  State_CA                                                                  392169 non-null  int64         \n",
            " 48  State_CO                                                                  392169 non-null  int64         \n",
            " 49  State_CT                                                                  392169 non-null  int64         \n",
            " 50  State_DC                                                                  392169 non-null  int64         \n",
            " 51  State_DE                                                                  392169 non-null  int64         \n",
            " 52  State_FL                                                                  392169 non-null  int64         \n",
            " 53  State_GA                                                                  392169 non-null  int64         \n",
            " 54  State_HI                                                                  392169 non-null  int64         \n",
            " 55  State_IA                                                                  392169 non-null  int64         \n",
            " 56  State_ID                                                                  392169 non-null  int64         \n",
            " 57  State_IL                                                                  392169 non-null  int64         \n",
            " 58  State_IN                                                                  392169 non-null  int64         \n",
            " 59  State_KS                                                                  392169 non-null  int64         \n",
            " 60  State_KY                                                                  392169 non-null  int64         \n",
            " 61  State_LA                                                                  392169 non-null  int64         \n",
            " 62  State_MA                                                                  392169 non-null  int64         \n",
            " 63  State_MD                                                                  392169 non-null  int64         \n",
            " 64  State_ME                                                                  392169 non-null  int64         \n",
            " 65  State_MI                                                                  392169 non-null  int64         \n",
            " 66  State_MN                                                                  392169 non-null  int64         \n",
            " 67  State_MO                                                                  392169 non-null  int64         \n",
            " 68  State_MS                                                                  392169 non-null  int64         \n",
            " 69  State_MT                                                                  392169 non-null  int64         \n",
            " 70  State_NC                                                                  392169 non-null  int64         \n",
            " 71  State_ND                                                                  392169 non-null  int64         \n",
            " 72  State_NE                                                                  392169 non-null  int64         \n",
            " 73  State_NH                                                                  392169 non-null  int64         \n",
            " 74  State_NJ                                                                  392169 non-null  int64         \n",
            " 75  State_NM                                                                  392169 non-null  int64         \n",
            " 76  State_NV                                                                  392169 non-null  int64         \n",
            " 77  State_NY                                                                  392169 non-null  int64         \n",
            " 78  State_OH                                                                  392169 non-null  int64         \n",
            " 79  State_OK                                                                  392169 non-null  int64         \n",
            " 80  State_OR                                                                  392169 non-null  int64         \n",
            " 81  State_PA                                                                  392169 non-null  int64         \n",
            " 82  State_RI                                                                  392169 non-null  int64         \n",
            " 83  State_SC                                                                  392169 non-null  int64         \n",
            " 84  State_SD                                                                  392169 non-null  int64         \n",
            " 85  State_TN                                                                  392169 non-null  int64         \n",
            " 86  State_TX                                                                  392169 non-null  int64         \n",
            " 87  State_UT                                                                  392169 non-null  int64         \n",
            " 88  State_VA                                                                  392169 non-null  int64         \n",
            " 89  State_VT                                                                  392169 non-null  int64         \n",
            " 90  State_WA                                                                  392169 non-null  int64         \n",
            " 91  State_WI                                                                  392169 non-null  int64         \n",
            " 92  State_WV                                                                  392169 non-null  int64         \n",
            " 93  State_WY                                                                  392169 non-null  int64         \n",
            "dtypes: datetime64[ns](2), float64(5), int64(81), object(6)\n",
            "memory usage: 284.2+ MB\n"
          ]
        }
      ]
    },
    {
      "cell_type": "markdown",
      "source": [
        "### Handle Class Imbalance"
      ],
      "metadata": {
        "id": "fXgoyWQmujYt"
      }
    },
    {
      "cell_type": "code",
      "source": [],
      "metadata": {
        "id": "XJZEQz763B9z"
      },
      "execution_count": null,
      "outputs": []
    },
    {
      "cell_type": "markdown",
      "source": [
        "## Feature Engineering"
      ],
      "metadata": {
        "id": "UB_lUYfrunka"
      }
    },
    {
      "cell_type": "markdown",
      "source": [
        "### Feature Selection"
      ],
      "metadata": {
        "id": "nlsnMMcdux_f"
      }
    },
    {
      "cell_type": "code",
      "source": [
        "dfc_v2 = dfc_v1.drop(['LoanNr_ChkDgt',\n",
        "                      'Name',\n",
        "                      'City',\n",
        "                      'Zip',\n",
        "                      'Bank',\n",
        "                      'BankState',\n",
        "                      'ApprovalDate',\n",
        "                      'CreateJob',\n",
        "                      'RetainedJob',\n",
        "                      'RevLineCr',\n",
        "                      'ChgOffDate',\n",
        "                      'BalanceGross',\n",
        "                      'ChgOffPrinGr'], \n",
        "                     axis=1)\n",
        "dfc_v2.info()"
      ],
      "metadata": {
        "id": "hej56ci7u0KW",
        "colab": {
          "base_uri": "https://localhost:8080/"
        },
        "outputId": "4e34961b-9fd9-46e7-8ada-acc0f8e58479"
      },
      "execution_count": 27,
      "outputs": [
        {
          "output_type": "stream",
          "name": "stdout",
          "text": [
            "<class 'pandas.core.frame.DataFrame'>\n",
            "Int64Index: 392169 entries, 12 to 898660\n",
            "Data columns (total 81 columns):\n",
            " #   Column                                                                    Non-Null Count   Dtype         \n",
            "---  ------                                                                    --------------   -----         \n",
            " 0   ApprovalFY                                                                392169 non-null  int64         \n",
            " 1   Term                                                                      392169 non-null  int64         \n",
            " 2   NoEmp                                                                     392169 non-null  int64         \n",
            " 3   NewExist                                                                  392169 non-null  int64         \n",
            " 4   FranchiseCode                                                             392169 non-null  int64         \n",
            " 5   UrbanRural                                                                392169 non-null  int64         \n",
            " 6   LowDoc                                                                    392169 non-null  int64         \n",
            " 7   DisbursementDate                                                          390671 non-null  datetime64[ns]\n",
            " 8   DisbursementGross                                                         392169 non-null  float64       \n",
            " 9   MIS_Status                                                                392169 non-null  int64         \n",
            " 10  GrAppv                                                                    392169 non-null  float64       \n",
            " 11  SBA_Appv                                                                  392169 non-null  float64       \n",
            " 12  NAICS_Administrative & Support / Waste Management / Remediation Services  392169 non-null  int64         \n",
            " 13  NAICS_Agriculture / Forestry / Fishing / Hunting                          392169 non-null  int64         \n",
            " 14  NAICS_Arts / Entertainment / Recreation                                   392169 non-null  int64         \n",
            " 15  NAICS_Construction                                                        392169 non-null  int64         \n",
            " 16  NAICS_Educational                                                         392169 non-null  int64         \n",
            " 17  NAICS_Finance / Insurance                                                 392169 non-null  int64         \n",
            " 18  NAICS_Health Care / Social Assistance                                     392169 non-null  int64         \n",
            " 19  NAICS_Information                                                         392169 non-null  int64         \n",
            " 20  NAICS_Management of Companies and Enterprises                             392169 non-null  int64         \n",
            " 21  NAICS_Manufacturing                                                       392169 non-null  int64         \n",
            " 22  NAICS_Mining / Quarrying / Oil&Gas Extraction                             392169 non-null  int64         \n",
            " 23  NAICS_Other Services (except public admin)                                392169 non-null  int64         \n",
            " 24  NAICS_Proffesional / Scientific / Tech.Service                            392169 non-null  int64         \n",
            " 25  NAICS_Public Administration                                               392169 non-null  int64         \n",
            " 26  NAICS_Real Estate / Rental / Leasing                                      392169 non-null  int64         \n",
            " 27  NAICS_Retail trade                                                        392169 non-null  int64         \n",
            " 28  NAICS_Transportation / Warehousing                                        392169 non-null  int64         \n",
            " 29  NAICS_Utilities                                                           392169 non-null  int64         \n",
            " 30  NAICS_Wholesale trade                                                     392169 non-null  int64         \n",
            " 31  State_AL                                                                  392169 non-null  int64         \n",
            " 32  State_AR                                                                  392169 non-null  int64         \n",
            " 33  State_AZ                                                                  392169 non-null  int64         \n",
            " 34  State_CA                                                                  392169 non-null  int64         \n",
            " 35  State_CO                                                                  392169 non-null  int64         \n",
            " 36  State_CT                                                                  392169 non-null  int64         \n",
            " 37  State_DC                                                                  392169 non-null  int64         \n",
            " 38  State_DE                                                                  392169 non-null  int64         \n",
            " 39  State_FL                                                                  392169 non-null  int64         \n",
            " 40  State_GA                                                                  392169 non-null  int64         \n",
            " 41  State_HI                                                                  392169 non-null  int64         \n",
            " 42  State_IA                                                                  392169 non-null  int64         \n",
            " 43  State_ID                                                                  392169 non-null  int64         \n",
            " 44  State_IL                                                                  392169 non-null  int64         \n",
            " 45  State_IN                                                                  392169 non-null  int64         \n",
            " 46  State_KS                                                                  392169 non-null  int64         \n",
            " 47  State_KY                                                                  392169 non-null  int64         \n",
            " 48  State_LA                                                                  392169 non-null  int64         \n",
            " 49  State_MA                                                                  392169 non-null  int64         \n",
            " 50  State_MD                                                                  392169 non-null  int64         \n",
            " 51  State_ME                                                                  392169 non-null  int64         \n",
            " 52  State_MI                                                                  392169 non-null  int64         \n",
            " 53  State_MN                                                                  392169 non-null  int64         \n",
            " 54  State_MO                                                                  392169 non-null  int64         \n",
            " 55  State_MS                                                                  392169 non-null  int64         \n",
            " 56  State_MT                                                                  392169 non-null  int64         \n",
            " 57  State_NC                                                                  392169 non-null  int64         \n",
            " 58  State_ND                                                                  392169 non-null  int64         \n",
            " 59  State_NE                                                                  392169 non-null  int64         \n",
            " 60  State_NH                                                                  392169 non-null  int64         \n",
            " 61  State_NJ                                                                  392169 non-null  int64         \n",
            " 62  State_NM                                                                  392169 non-null  int64         \n",
            " 63  State_NV                                                                  392169 non-null  int64         \n",
            " 64  State_NY                                                                  392169 non-null  int64         \n",
            " 65  State_OH                                                                  392169 non-null  int64         \n",
            " 66  State_OK                                                                  392169 non-null  int64         \n",
            " 67  State_OR                                                                  392169 non-null  int64         \n",
            " 68  State_PA                                                                  392169 non-null  int64         \n",
            " 69  State_RI                                                                  392169 non-null  int64         \n",
            " 70  State_SC                                                                  392169 non-null  int64         \n",
            " 71  State_SD                                                                  392169 non-null  int64         \n",
            " 72  State_TN                                                                  392169 non-null  int64         \n",
            " 73  State_TX                                                                  392169 non-null  int64         \n",
            " 74  State_UT                                                                  392169 non-null  int64         \n",
            " 75  State_VA                                                                  392169 non-null  int64         \n",
            " 76  State_VT                                                                  392169 non-null  int64         \n",
            " 77  State_WA                                                                  392169 non-null  int64         \n",
            " 78  State_WI                                                                  392169 non-null  int64         \n",
            " 79  State_WV                                                                  392169 non-null  int64         \n",
            " 80  State_WY                                                                  392169 non-null  int64         \n",
            "dtypes: datetime64[ns](1), float64(3), int64(77)\n",
            "memory usage: 245.3 MB\n"
          ]
        }
      ]
    },
    {
      "cell_type": "markdown",
      "source": [
        "### Feature Extraction"
      ],
      "metadata": {
        "id": "bDtAjVUaC81k"
      }
    },
    {
      "cell_type": "code",
      "source": [
        "# Membuat feature baru berdasarkan column Term (Membuat column RealEstate)\n",
        "dfc_v2['RealEstate'] = 0\n",
        "dfc_v2.loc[dfc_v2['Term'] >= 300, 'RealEstate'] = 1"
      ],
      "metadata": {
        "id": "SknQeby4C_cQ"
      },
      "execution_count": 28,
      "outputs": []
    },
    {
      "cell_type": "code",
      "source": [
        "# Membuat feature baru berdasarkan column DisbursmentDate (Membuat column Resesi)\n",
        "list_resesi = []\n",
        "\n",
        "for resesi in dfc_v2['DisbursementDate'].astype(str):\n",
        "  if resesi >= '2007-12-01' and resesi <= '2009-06-30':\n",
        "    resesi = 1\n",
        "  else:\n",
        "    resesi = 0\n",
        "\n",
        "  list_resesi.append(resesi)\n",
        "\n",
        "dfc_v2['Resesi'] = list_resesi"
      ],
      "metadata": {
        "id": "udTntiF5A4DX"
      },
      "execution_count": 55,
      "outputs": []
    },
    {
      "cell_type": "code",
      "source": [
        "# Membuat feature baru berdasarkan column SBAAppv & Gr_Appv (Membuat column Portion)\n",
        "dfc_v2['Portion'] = dfc_v2['SBA_Appv'] / dfc_v2['GrAppv']"
      ],
      "metadata": {
        "id": "Bddc_nfsJbWU"
      },
      "execution_count": 61,
      "outputs": []
    },
    {
      "cell_type": "code",
      "source": [
        "dfc_v3 = dfc_v2.drop(['DisbursementDate',\n",
        "                      'ApprovalFY'], \n",
        "                     axis=1)\n",
        "dfc_v3.info()"
      ],
      "metadata": {
        "colab": {
          "base_uri": "https://localhost:8080/"
        },
        "id": "gZkcCdanJ5-i",
        "outputId": "ec96c1cc-7e19-43e3-cedc-3fa7dd007354"
      },
      "execution_count": 63,
      "outputs": [
        {
          "output_type": "stream",
          "name": "stdout",
          "text": [
            "<class 'pandas.core.frame.DataFrame'>\n",
            "Int64Index: 392169 entries, 12 to 898660\n",
            "Data columns (total 82 columns):\n",
            " #   Column                                                                    Non-Null Count   Dtype  \n",
            "---  ------                                                                    --------------   -----  \n",
            " 0   Term                                                                      392169 non-null  int64  \n",
            " 1   NoEmp                                                                     392169 non-null  int64  \n",
            " 2   NewExist                                                                  392169 non-null  int64  \n",
            " 3   FranchiseCode                                                             392169 non-null  int64  \n",
            " 4   UrbanRural                                                                392169 non-null  int64  \n",
            " 5   LowDoc                                                                    392169 non-null  int64  \n",
            " 6   DisbursementGross                                                         392169 non-null  float64\n",
            " 7   MIS_Status                                                                392169 non-null  int64  \n",
            " 8   GrAppv                                                                    392169 non-null  float64\n",
            " 9   SBA_Appv                                                                  392169 non-null  float64\n",
            " 10  NAICS_Administrative & Support / Waste Management / Remediation Services  392169 non-null  int64  \n",
            " 11  NAICS_Agriculture / Forestry / Fishing / Hunting                          392169 non-null  int64  \n",
            " 12  NAICS_Arts / Entertainment / Recreation                                   392169 non-null  int64  \n",
            " 13  NAICS_Construction                                                        392169 non-null  int64  \n",
            " 14  NAICS_Educational                                                         392169 non-null  int64  \n",
            " 15  NAICS_Finance / Insurance                                                 392169 non-null  int64  \n",
            " 16  NAICS_Health Care / Social Assistance                                     392169 non-null  int64  \n",
            " 17  NAICS_Information                                                         392169 non-null  int64  \n",
            " 18  NAICS_Management of Companies and Enterprises                             392169 non-null  int64  \n",
            " 19  NAICS_Manufacturing                                                       392169 non-null  int64  \n",
            " 20  NAICS_Mining / Quarrying / Oil&Gas Extraction                             392169 non-null  int64  \n",
            " 21  NAICS_Other Services (except public admin)                                392169 non-null  int64  \n",
            " 22  NAICS_Proffesional / Scientific / Tech.Service                            392169 non-null  int64  \n",
            " 23  NAICS_Public Administration                                               392169 non-null  int64  \n",
            " 24  NAICS_Real Estate / Rental / Leasing                                      392169 non-null  int64  \n",
            " 25  NAICS_Retail trade                                                        392169 non-null  int64  \n",
            " 26  NAICS_Transportation / Warehousing                                        392169 non-null  int64  \n",
            " 27  NAICS_Utilities                                                           392169 non-null  int64  \n",
            " 28  NAICS_Wholesale trade                                                     392169 non-null  int64  \n",
            " 29  State_AL                                                                  392169 non-null  int64  \n",
            " 30  State_AR                                                                  392169 non-null  int64  \n",
            " 31  State_AZ                                                                  392169 non-null  int64  \n",
            " 32  State_CA                                                                  392169 non-null  int64  \n",
            " 33  State_CO                                                                  392169 non-null  int64  \n",
            " 34  State_CT                                                                  392169 non-null  int64  \n",
            " 35  State_DC                                                                  392169 non-null  int64  \n",
            " 36  State_DE                                                                  392169 non-null  int64  \n",
            " 37  State_FL                                                                  392169 non-null  int64  \n",
            " 38  State_GA                                                                  392169 non-null  int64  \n",
            " 39  State_HI                                                                  392169 non-null  int64  \n",
            " 40  State_IA                                                                  392169 non-null  int64  \n",
            " 41  State_ID                                                                  392169 non-null  int64  \n",
            " 42  State_IL                                                                  392169 non-null  int64  \n",
            " 43  State_IN                                                                  392169 non-null  int64  \n",
            " 44  State_KS                                                                  392169 non-null  int64  \n",
            " 45  State_KY                                                                  392169 non-null  int64  \n",
            " 46  State_LA                                                                  392169 non-null  int64  \n",
            " 47  State_MA                                                                  392169 non-null  int64  \n",
            " 48  State_MD                                                                  392169 non-null  int64  \n",
            " 49  State_ME                                                                  392169 non-null  int64  \n",
            " 50  State_MI                                                                  392169 non-null  int64  \n",
            " 51  State_MN                                                                  392169 non-null  int64  \n",
            " 52  State_MO                                                                  392169 non-null  int64  \n",
            " 53  State_MS                                                                  392169 non-null  int64  \n",
            " 54  State_MT                                                                  392169 non-null  int64  \n",
            " 55  State_NC                                                                  392169 non-null  int64  \n",
            " 56  State_ND                                                                  392169 non-null  int64  \n",
            " 57  State_NE                                                                  392169 non-null  int64  \n",
            " 58  State_NH                                                                  392169 non-null  int64  \n",
            " 59  State_NJ                                                                  392169 non-null  int64  \n",
            " 60  State_NM                                                                  392169 non-null  int64  \n",
            " 61  State_NV                                                                  392169 non-null  int64  \n",
            " 62  State_NY                                                                  392169 non-null  int64  \n",
            " 63  State_OH                                                                  392169 non-null  int64  \n",
            " 64  State_OK                                                                  392169 non-null  int64  \n",
            " 65  State_OR                                                                  392169 non-null  int64  \n",
            " 66  State_PA                                                                  392169 non-null  int64  \n",
            " 67  State_RI                                                                  392169 non-null  int64  \n",
            " 68  State_SC                                                                  392169 non-null  int64  \n",
            " 69  State_SD                                                                  392169 non-null  int64  \n",
            " 70  State_TN                                                                  392169 non-null  int64  \n",
            " 71  State_TX                                                                  392169 non-null  int64  \n",
            " 72  State_UT                                                                  392169 non-null  int64  \n",
            " 73  State_VA                                                                  392169 non-null  int64  \n",
            " 74  State_VT                                                                  392169 non-null  int64  \n",
            " 75  State_WA                                                                  392169 non-null  int64  \n",
            " 76  State_WI                                                                  392169 non-null  int64  \n",
            " 77  State_WV                                                                  392169 non-null  int64  \n",
            " 78  State_WY                                                                  392169 non-null  int64  \n",
            " 79  RealEstate                                                                392169 non-null  int64  \n",
            " 80  Resesi                                                                    392169 non-null  int64  \n",
            " 81  Portion                                                                   392169 non-null  float64\n",
            "dtypes: float64(4), int64(78)\n",
            "memory usage: 248.3 MB\n"
          ]
        }
      ]
    },
    {
      "cell_type": "markdown",
      "source": [
        "### New Feature"
      ],
      "metadata": {
        "id": "0WqnYYWku0Zk"
      }
    },
    {
      "cell_type": "markdown",
      "source": [
        "1. Menambah feature **Default_Rate** dari masing masing **sektor industri**\n",
        "2. Menambah feature **Default_Rate** dari masing masing **State**\n",
        "3. Membagi feature **State** menjadi **Region** untuk mengurangi jumlah kolom\n",
        "4. "
      ],
      "metadata": {
        "id": "DagGqYiiKY7B"
      }
    }
  ]
}